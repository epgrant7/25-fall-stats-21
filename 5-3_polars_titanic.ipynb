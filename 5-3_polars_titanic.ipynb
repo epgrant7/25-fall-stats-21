{
 "cells": [
  {
   "cell_type": "markdown",
   "id": "0087d6b8",
   "metadata": {},
   "source": [
    "# Lecture 5-3\n",
    "\n",
    "## Polars\n",
    "\n",
    "## Week 5 Friday\n",
    "\n",
    "## Miles Chen, PhD"
   ]
  },
  {
   "cell_type": "markdown",
   "id": "17d253fe",
   "metadata": {},
   "source": [
    "[https://pola.rs/](https://pola.rs/)"
   ]
  },
  {
   "cell_type": "markdown",
   "id": "cd964287",
   "metadata": {},
   "source": [
    "# Why Polars?\n",
    "\n",
    "Polars is built for speed.\n",
    "\n",
    "Polars can use lazy execution. The optimizer looks at the entire query and builds an optimized plan for processing it.\n",
    "\n",
    "## Stick to Pandas for:\n",
    "\n",
    "- Small/interactive analysis: For quick data exploration and when high performance doesn't matter, pandas is perfectly fine.\n",
    "- Plotting & convenience: Many plotting libs integrate directly with pandas; Polars usually hands off to pandas or converts to arrays for plotting"
   ]
  },
  {
   "cell_type": "markdown",
   "id": "cb6d48fb",
   "metadata": {},
   "source": [
    "\n",
    "## 0) Setup\n",
    "\n",
    "> If Polars isn't installed yet, run this in the terminal:\n",
    "```bash\n",
    "pip install polars\n",
    "```\n"
   ]
  },
  {
   "cell_type": "code",
   "execution_count": 1,
   "id": "f624f880",
   "metadata": {},
   "outputs": [
    {
     "data": {
      "text/plain": [
       "'1.5.0'"
      ]
     },
     "execution_count": 1,
     "metadata": {},
     "output_type": "execute_result"
    }
   ],
   "source": [
    "import polars as pl\n",
    "pl.__version__"
   ]
  },
  {
   "cell_type": "markdown",
   "id": "024f0435",
   "metadata": {},
   "source": [
    "\n",
    "## 1) Load the Titanic dataset\n",
    "\n",
    "* survived: 0 = No, 1 = Yes\n",
    "* pclass: Ticket class: 1 = 1st, 2 = 2nd, 3 = 3rd\n",
    "* sibsp: number of siblings and/or spouses aboard\n",
    "* parch: number of parents and/or children aboard\n",
    "* ticket: ticket number\n",
    "* cabin: cabin number\n",
    "* embarked: port of embarkation: C = Cherbourg, Q = Queenstown, S = Southampton\n"
   ]
  },
  {
   "cell_type": "code",
   "execution_count": 2,
   "id": "754cb8a3",
   "metadata": {},
   "outputs": [
    {
     "data": {
      "text/html": [
       "<div><style>\n",
       ".dataframe > thead > tr,\n",
       ".dataframe > tbody > tr {\n",
       "  text-align: right;\n",
       "  white-space: pre-wrap;\n",
       "}\n",
       "</style>\n",
       "<small>shape: (891, 12)</small><table border=\"1\" class=\"dataframe\"><thead><tr><th>passengerid</th><th>survived</th><th>pclass</th><th>name</th><th>sex</th><th>age</th><th>sibsp</th><th>parch</th><th>ticket</th><th>fare</th><th>cabin</th><th>embarked</th></tr><tr><td>i64</td><td>i64</td><td>i64</td><td>str</td><td>str</td><td>f64</td><td>i64</td><td>i64</td><td>str</td><td>f64</td><td>str</td><td>str</td></tr></thead><tbody><tr><td>1</td><td>0</td><td>3</td><td>&quot;Braund, Mr. Owen Harris&quot;</td><td>&quot;male&quot;</td><td>22.0</td><td>1</td><td>0</td><td>&quot;A/5 21171&quot;</td><td>7.25</td><td>null</td><td>&quot;S&quot;</td></tr><tr><td>2</td><td>1</td><td>1</td><td>&quot;Cumings, Mrs. John Bradley (Fl…</td><td>&quot;female&quot;</td><td>38.0</td><td>1</td><td>0</td><td>&quot;PC 17599&quot;</td><td>71.2833</td><td>&quot;C85&quot;</td><td>&quot;C&quot;</td></tr><tr><td>3</td><td>1</td><td>3</td><td>&quot;Heikkinen, Miss. Laina&quot;</td><td>&quot;female&quot;</td><td>26.0</td><td>0</td><td>0</td><td>&quot;STON/O2. 3101282&quot;</td><td>7.925</td><td>null</td><td>&quot;S&quot;</td></tr><tr><td>4</td><td>1</td><td>1</td><td>&quot;Futrelle, Mrs. Jacques Heath (…</td><td>&quot;female&quot;</td><td>35.0</td><td>1</td><td>0</td><td>&quot;113803&quot;</td><td>53.1</td><td>&quot;C123&quot;</td><td>&quot;S&quot;</td></tr><tr><td>5</td><td>0</td><td>3</td><td>&quot;Allen, Mr. William Henry&quot;</td><td>&quot;male&quot;</td><td>35.0</td><td>0</td><td>0</td><td>&quot;373450&quot;</td><td>8.05</td><td>null</td><td>&quot;S&quot;</td></tr><tr><td>&hellip;</td><td>&hellip;</td><td>&hellip;</td><td>&hellip;</td><td>&hellip;</td><td>&hellip;</td><td>&hellip;</td><td>&hellip;</td><td>&hellip;</td><td>&hellip;</td><td>&hellip;</td><td>&hellip;</td></tr><tr><td>887</td><td>0</td><td>2</td><td>&quot;Montvila, Rev. Juozas&quot;</td><td>&quot;male&quot;</td><td>27.0</td><td>0</td><td>0</td><td>&quot;211536&quot;</td><td>13.0</td><td>null</td><td>&quot;S&quot;</td></tr><tr><td>888</td><td>1</td><td>1</td><td>&quot;Graham, Miss. Margaret Edith&quot;</td><td>&quot;female&quot;</td><td>19.0</td><td>0</td><td>0</td><td>&quot;112053&quot;</td><td>30.0</td><td>&quot;B42&quot;</td><td>&quot;S&quot;</td></tr><tr><td>889</td><td>0</td><td>3</td><td>&quot;Johnston, Miss. Catherine Hele…</td><td>&quot;female&quot;</td><td>null</td><td>1</td><td>2</td><td>&quot;W./C. 6607&quot;</td><td>23.45</td><td>null</td><td>&quot;S&quot;</td></tr><tr><td>890</td><td>1</td><td>1</td><td>&quot;Behr, Mr. Karl Howell&quot;</td><td>&quot;male&quot;</td><td>26.0</td><td>0</td><td>0</td><td>&quot;111369&quot;</td><td>30.0</td><td>&quot;C148&quot;</td><td>&quot;C&quot;</td></tr><tr><td>891</td><td>0</td><td>3</td><td>&quot;Dooley, Mr. Patrick&quot;</td><td>&quot;male&quot;</td><td>32.0</td><td>0</td><td>0</td><td>&quot;370376&quot;</td><td>7.75</td><td>null</td><td>&quot;Q&quot;</td></tr></tbody></table></div>"
      ],
      "text/plain": [
       "shape: (891, 12)\n",
       "┌─────────────┬──────────┬────────┬──────────────────┬───┬────────────┬─────────┬───────┬──────────┐\n",
       "│ passengerid ┆ survived ┆ pclass ┆ name             ┆ … ┆ ticket     ┆ fare    ┆ cabin ┆ embarked │\n",
       "│ ---         ┆ ---      ┆ ---    ┆ ---              ┆   ┆ ---        ┆ ---     ┆ ---   ┆ ---      │\n",
       "│ i64         ┆ i64      ┆ i64    ┆ str              ┆   ┆ str        ┆ f64     ┆ str   ┆ str      │\n",
       "╞═════════════╪══════════╪════════╪══════════════════╪═══╪════════════╪═════════╪═══════╪══════════╡\n",
       "│ 1           ┆ 0        ┆ 3      ┆ Braund, Mr. Owen ┆ … ┆ A/5 21171  ┆ 7.25    ┆ null  ┆ S        │\n",
       "│             ┆          ┆        ┆ Harris           ┆   ┆            ┆         ┆       ┆          │\n",
       "│ 2           ┆ 1        ┆ 1      ┆ Cumings, Mrs.    ┆ … ┆ PC 17599   ┆ 71.2833 ┆ C85   ┆ C        │\n",
       "│             ┆          ┆        ┆ John Bradley     ┆   ┆            ┆         ┆       ┆          │\n",
       "│             ┆          ┆        ┆ (Fl…             ┆   ┆            ┆         ┆       ┆          │\n",
       "│ 3           ┆ 1        ┆ 3      ┆ Heikkinen, Miss. ┆ … ┆ STON/O2.   ┆ 7.925   ┆ null  ┆ S        │\n",
       "│             ┆          ┆        ┆ Laina            ┆   ┆ 3101282    ┆         ┆       ┆          │\n",
       "│ 4           ┆ 1        ┆ 1      ┆ Futrelle, Mrs.   ┆ … ┆ 113803     ┆ 53.1    ┆ C123  ┆ S        │\n",
       "│             ┆          ┆        ┆ Jacques Heath (… ┆   ┆            ┆         ┆       ┆          │\n",
       "│ 5           ┆ 0        ┆ 3      ┆ Allen, Mr.       ┆ … ┆ 373450     ┆ 8.05    ┆ null  ┆ S        │\n",
       "│             ┆          ┆        ┆ William Henry    ┆   ┆            ┆         ┆       ┆          │\n",
       "│ …           ┆ …        ┆ …      ┆ …                ┆ … ┆ …          ┆ …       ┆ …     ┆ …        │\n",
       "│ 887         ┆ 0        ┆ 2      ┆ Montvila, Rev.   ┆ … ┆ 211536     ┆ 13.0    ┆ null  ┆ S        │\n",
       "│             ┆          ┆        ┆ Juozas           ┆   ┆            ┆         ┆       ┆          │\n",
       "│ 888         ┆ 1        ┆ 1      ┆ Graham, Miss.    ┆ … ┆ 112053     ┆ 30.0    ┆ B42   ┆ S        │\n",
       "│             ┆          ┆        ┆ Margaret Edith   ┆   ┆            ┆         ┆       ┆          │\n",
       "│ 889         ┆ 0        ┆ 3      ┆ Johnston, Miss.  ┆ … ┆ W./C. 6607 ┆ 23.45   ┆ null  ┆ S        │\n",
       "│             ┆          ┆        ┆ Catherine Hele…  ┆   ┆            ┆         ┆       ┆          │\n",
       "│ 890         ┆ 1        ┆ 1      ┆ Behr, Mr. Karl   ┆ … ┆ 111369     ┆ 30.0    ┆ C148  ┆ C        │\n",
       "│             ┆          ┆        ┆ Howell           ┆   ┆            ┆         ┆       ┆          │\n",
       "│ 891         ┆ 0        ┆ 3      ┆ Dooley, Mr.      ┆ … ┆ 370376     ┆ 7.75    ┆ null  ┆ Q        │\n",
       "│             ┆          ┆        ┆ Patrick          ┆   ┆            ┆         ┆       ┆          │\n",
       "└─────────────┴──────────┴────────┴──────────────────┴───┴────────────┴─────────┴───────┴──────────┘"
      ]
     },
     "execution_count": 2,
     "metadata": {},
     "output_type": "execute_result"
    }
   ],
   "source": [
    "# Read in the data eagerly (materializes immediately)\n",
    "titanic = pl.read_csv(\"titanic.csv\")\n",
    "\n",
    "titanic"
   ]
  },
  {
   "cell_type": "markdown",
   "id": "7107e14b",
   "metadata": {},
   "source": [
    "## 2) Eager vs. Lazy\n",
    "\n",
    "- **Eager** executes now and returns results.\n",
    "- **Lazy** builds a plan (`LazyFrame`) and executes at `.collect()`, enabling optimizations.\n",
    "\n",
    "The recommended method is to use lazy API. Polars will look at the entire query and optimize it before running. The lazy API allows you to work with datasets that are larger than your computer's memory.\n",
    "\n",
    "To use the lazy API, use `pl.scan_csv()` instead of `pl.read_csv()`\n",
    "\n",
    "We'll come back to this topic later, *after* we have introduced operational features in Polars.\n"
   ]
  },
  {
   "cell_type": "markdown",
   "id": "7c566e7e",
   "metadata": {},
   "source": [
    "\n",
    "## 3) Select and Rename\n",
    "\n",
    "Select columns (also called series) using `name_of_dataframe.select(\"column_name\")`\n",
    "\n",
    "Multiple columns can be selected by passing a list of column names.\n",
    "\n",
    "Columns or series can be renamed using `pl.col(\"current_name\").alias(\"new_name\")`\n",
    "\n",
    "If you ever want to use attributes or methods for a column, you must use `pl.col(\"column_name\")` and not just the string name.\n",
    "\n"
   ]
  },
  {
   "cell_type": "code",
   "execution_count": 3,
   "id": "a31990e5",
   "metadata": {},
   "outputs": [
    {
     "data": {
      "text/html": [
       "<div><style>\n",
       ".dataframe > thead > tr,\n",
       ".dataframe > tbody > tr {\n",
       "  text-align: right;\n",
       "  white-space: pre-wrap;\n",
       "}\n",
       "</style>\n",
       "<small>shape: (891, 5)</small><table border=\"1\" class=\"dataframe\"><thead><tr><th>survived</th><th>passenger_class</th><th>sex</th><th>age</th><th>fare_gbp</th></tr><tr><td>i64</td><td>i64</td><td>str</td><td>f64</td><td>f64</td></tr></thead><tbody><tr><td>0</td><td>3</td><td>&quot;male&quot;</td><td>22.0</td><td>7.25</td></tr><tr><td>1</td><td>1</td><td>&quot;female&quot;</td><td>38.0</td><td>71.2833</td></tr><tr><td>1</td><td>3</td><td>&quot;female&quot;</td><td>26.0</td><td>7.925</td></tr><tr><td>1</td><td>1</td><td>&quot;female&quot;</td><td>35.0</td><td>53.1</td></tr><tr><td>0</td><td>3</td><td>&quot;male&quot;</td><td>35.0</td><td>8.05</td></tr><tr><td>&hellip;</td><td>&hellip;</td><td>&hellip;</td><td>&hellip;</td><td>&hellip;</td></tr><tr><td>0</td><td>2</td><td>&quot;male&quot;</td><td>27.0</td><td>13.0</td></tr><tr><td>1</td><td>1</td><td>&quot;female&quot;</td><td>19.0</td><td>30.0</td></tr><tr><td>0</td><td>3</td><td>&quot;female&quot;</td><td>null</td><td>23.45</td></tr><tr><td>1</td><td>1</td><td>&quot;male&quot;</td><td>26.0</td><td>30.0</td></tr><tr><td>0</td><td>3</td><td>&quot;male&quot;</td><td>32.0</td><td>7.75</td></tr></tbody></table></div>"
      ],
      "text/plain": [
       "shape: (891, 5)\n",
       "┌──────────┬─────────────────┬────────┬──────┬──────────┐\n",
       "│ survived ┆ passenger_class ┆ sex    ┆ age  ┆ fare_gbp │\n",
       "│ ---      ┆ ---             ┆ ---    ┆ ---  ┆ ---      │\n",
       "│ i64      ┆ i64             ┆ str    ┆ f64  ┆ f64      │\n",
       "╞══════════╪═════════════════╪════════╪══════╪══════════╡\n",
       "│ 0        ┆ 3               ┆ male   ┆ 22.0 ┆ 7.25     │\n",
       "│ 1        ┆ 1               ┆ female ┆ 38.0 ┆ 71.2833  │\n",
       "│ 1        ┆ 3               ┆ female ┆ 26.0 ┆ 7.925    │\n",
       "│ 1        ┆ 1               ┆ female ┆ 35.0 ┆ 53.1     │\n",
       "│ 0        ┆ 3               ┆ male   ┆ 35.0 ┆ 8.05     │\n",
       "│ …        ┆ …               ┆ …      ┆ …    ┆ …        │\n",
       "│ 0        ┆ 2               ┆ male   ┆ 27.0 ┆ 13.0     │\n",
       "│ 1        ┆ 1               ┆ female ┆ 19.0 ┆ 30.0     │\n",
       "│ 0        ┆ 3               ┆ female ┆ null ┆ 23.45    │\n",
       "│ 1        ┆ 1               ┆ male   ┆ 26.0 ┆ 30.0     │\n",
       "│ 0        ┆ 3               ┆ male   ┆ 32.0 ┆ 7.75     │\n",
       "└──────────┴─────────────────┴────────┴──────┴──────────┘"
      ]
     },
     "execution_count": 3,
     "metadata": {},
     "output_type": "execute_result"
    }
   ],
   "source": [
    "titanic.select([\n",
    "    \"survived\",\n",
    "    pl.col(\"pclass\").alias(\"passenger_class\"),\n",
    "    \"sex\",\n",
    "    \"age\",\n",
    "    pl.col(\"fare\").alias(\"fare_gbp\")\n",
    "])"
   ]
  },
  {
   "cell_type": "markdown",
   "id": "bd743d7f",
   "metadata": {},
   "source": [
    "\n",
    "## 4) Filter rows and Sort rows\n"
   ]
  },
  {
   "cell_type": "code",
   "execution_count": 4,
   "id": "db3c0b86",
   "metadata": {},
   "outputs": [
    {
     "data": {
      "text/html": [
       "<div><style>\n",
       ".dataframe > thead > tr,\n",
       ".dataframe > tbody > tr {\n",
       "  text-align: right;\n",
       "  white-space: pre-wrap;\n",
       "}\n",
       "</style>\n",
       "<small>shape: (170, 12)</small><table border=\"1\" class=\"dataframe\"><thead><tr><th>passengerid</th><th>survived</th><th>pclass</th><th>name</th><th>sex</th><th>age</th><th>sibsp</th><th>parch</th><th>ticket</th><th>fare</th><th>cabin</th><th>embarked</th></tr><tr><td>i64</td><td>i64</td><td>i64</td><td>str</td><td>str</td><td>f64</td><td>i64</td><td>i64</td><td>str</td><td>f64</td><td>str</td><td>str</td></tr></thead><tbody><tr><td>259</td><td>1</td><td>1</td><td>&quot;Ward, Miss. Anna&quot;</td><td>&quot;female&quot;</td><td>35.0</td><td>0</td><td>0</td><td>&quot;PC 17755&quot;</td><td>512.3292</td><td>null</td><td>&quot;C&quot;</td></tr><tr><td>89</td><td>1</td><td>1</td><td>&quot;Fortune, Miss. Mabel Helen&quot;</td><td>&quot;female&quot;</td><td>23.0</td><td>3</td><td>2</td><td>&quot;19950&quot;</td><td>263.0</td><td>&quot;C23 C25 C27&quot;</td><td>&quot;S&quot;</td></tr><tr><td>342</td><td>1</td><td>1</td><td>&quot;Fortune, Miss. Alice Elizabeth&quot;</td><td>&quot;female&quot;</td><td>24.0</td><td>3</td><td>2</td><td>&quot;19950&quot;</td><td>263.0</td><td>&quot;C23 C25 C27&quot;</td><td>&quot;S&quot;</td></tr><tr><td>312</td><td>1</td><td>1</td><td>&quot;Ryerson, Miss. Emily Borie&quot;</td><td>&quot;female&quot;</td><td>18.0</td><td>2</td><td>2</td><td>&quot;PC 17608&quot;</td><td>262.375</td><td>&quot;B57 B59 B63 B66&quot;</td><td>&quot;C&quot;</td></tr><tr><td>743</td><td>1</td><td>1</td><td>&quot;Ryerson, Miss. Susan Parker &quot;S…</td><td>&quot;female&quot;</td><td>21.0</td><td>2</td><td>2</td><td>&quot;PC 17608&quot;</td><td>262.375</td><td>&quot;B57 B59 B63 B66&quot;</td><td>&quot;C&quot;</td></tr><tr><td>&hellip;</td><td>&hellip;</td><td>&hellip;</td><td>&hellip;</td><td>&hellip;</td><td>&hellip;</td><td>&hellip;</td><td>&hellip;</td><td>&hellip;</td><td>&hellip;</td><td>&hellip;</td><td>&hellip;</td></tr><tr><td>459</td><td>1</td><td>2</td><td>&quot;Toomey, Miss. Ellen&quot;</td><td>&quot;female&quot;</td><td>50.0</td><td>0</td><td>0</td><td>&quot;F.C.C. 13531&quot;</td><td>10.5</td><td>null</td><td>&quot;S&quot;</td></tr><tr><td>517</td><td>1</td><td>2</td><td>&quot;Lemore, Mrs. (Amelia Milley)&quot;</td><td>&quot;female&quot;</td><td>34.0</td><td>0</td><td>0</td><td>&quot;C.A. 34260&quot;</td><td>10.5</td><td>&quot;F33&quot;</td><td>&quot;S&quot;</td></tr><tr><td>527</td><td>1</td><td>2</td><td>&quot;Ridsdale, Miss. Lucy&quot;</td><td>&quot;female&quot;</td><td>50.0</td><td>0</td><td>0</td><td>&quot;W./C. 14258&quot;</td><td>10.5</td><td>null</td><td>&quot;S&quot;</td></tr><tr><td>718</td><td>1</td><td>2</td><td>&quot;Troutt, Miss. Edwina Celia &quot;Wi…</td><td>&quot;female&quot;</td><td>27.0</td><td>0</td><td>0</td><td>&quot;34218&quot;</td><td>10.5</td><td>&quot;E101&quot;</td><td>&quot;S&quot;</td></tr><tr><td>773</td><td>0</td><td>2</td><td>&quot;Mack, Mrs. (Mary)&quot;</td><td>&quot;female&quot;</td><td>57.0</td><td>0</td><td>0</td><td>&quot;S.O./P.P. 3&quot;</td><td>10.5</td><td>&quot;E77&quot;</td><td>&quot;S&quot;</td></tr></tbody></table></div>"
      ],
      "text/plain": [
       "shape: (170, 12)\n",
       "┌──────────────┬──────────┬────────┬─────────────┬───┬─────────────┬──────────┬─────────┬──────────┐\n",
       "│ passengerid  ┆ survived ┆ pclass ┆ name        ┆ … ┆ ticket      ┆ fare     ┆ cabin   ┆ embarked │\n",
       "│ ---          ┆ ---      ┆ ---    ┆ ---         ┆   ┆ ---         ┆ ---      ┆ ---     ┆ ---      │\n",
       "│ i64          ┆ i64      ┆ i64    ┆ str         ┆   ┆ str         ┆ f64      ┆ str     ┆ str      │\n",
       "╞══════════════╪══════════╪════════╪═════════════╪═══╪═════════════╪══════════╪═════════╪══════════╡\n",
       "│ 259          ┆ 1        ┆ 1      ┆ Ward, Miss. ┆ … ┆ PC 17755    ┆ 512.3292 ┆ null    ┆ C        │\n",
       "│              ┆          ┆        ┆ Anna        ┆   ┆             ┆          ┆         ┆          │\n",
       "│ 89           ┆ 1        ┆ 1      ┆ Fortune,    ┆ … ┆ 19950       ┆ 263.0    ┆ C23 C25 ┆ S        │\n",
       "│              ┆          ┆        ┆ Miss. Mabel ┆   ┆             ┆          ┆ C27     ┆          │\n",
       "│              ┆          ┆        ┆ Helen       ┆   ┆             ┆          ┆         ┆          │\n",
       "│ 342          ┆ 1        ┆ 1      ┆ Fortune,    ┆ … ┆ 19950       ┆ 263.0    ┆ C23 C25 ┆ S        │\n",
       "│              ┆          ┆        ┆ Miss. Alice ┆   ┆             ┆          ┆ C27     ┆          │\n",
       "│              ┆          ┆        ┆ Elizabeth   ┆   ┆             ┆          ┆         ┆          │\n",
       "│ 312          ┆ 1        ┆ 1      ┆ Ryerson,    ┆ … ┆ PC 17608    ┆ 262.375  ┆ B57 B59 ┆ C        │\n",
       "│              ┆          ┆        ┆ Miss. Emily ┆   ┆             ┆          ┆ B63 B66 ┆          │\n",
       "│              ┆          ┆        ┆ Borie       ┆   ┆             ┆          ┆         ┆          │\n",
       "│ 743          ┆ 1        ┆ 1      ┆ Ryerson,    ┆ … ┆ PC 17608    ┆ 262.375  ┆ B57 B59 ┆ C        │\n",
       "│              ┆          ┆        ┆ Miss. Susan ┆   ┆             ┆          ┆ B63 B66 ┆          │\n",
       "│              ┆          ┆        ┆ Parker \"S…  ┆   ┆             ┆          ┆         ┆          │\n",
       "│ …            ┆ …        ┆ …      ┆ …           ┆ … ┆ …           ┆ …        ┆ …       ┆ …        │\n",
       "│ 459          ┆ 1        ┆ 2      ┆ Toomey,     ┆ … ┆ F.C.C.      ┆ 10.5     ┆ null    ┆ S        │\n",
       "│              ┆          ┆        ┆ Miss. Ellen ┆   ┆ 13531       ┆          ┆         ┆          │\n",
       "│ 517          ┆ 1        ┆ 2      ┆ Lemore,     ┆ … ┆ C.A. 34260  ┆ 10.5     ┆ F33     ┆ S        │\n",
       "│              ┆          ┆        ┆ Mrs.        ┆   ┆             ┆          ┆         ┆          │\n",
       "│              ┆          ┆        ┆ (Amelia     ┆   ┆             ┆          ┆         ┆          │\n",
       "│              ┆          ┆        ┆ Milley)     ┆   ┆             ┆          ┆         ┆          │\n",
       "│ 527          ┆ 1        ┆ 2      ┆ Ridsdale,   ┆ … ┆ W./C. 14258 ┆ 10.5     ┆ null    ┆ S        │\n",
       "│              ┆          ┆        ┆ Miss. Lucy  ┆   ┆             ┆          ┆         ┆          │\n",
       "│ 718          ┆ 1        ┆ 2      ┆ Troutt,     ┆ … ┆ 34218       ┆ 10.5     ┆ E101    ┆ S        │\n",
       "│              ┆          ┆        ┆ Miss.       ┆   ┆             ┆          ┆         ┆          │\n",
       "│              ┆          ┆        ┆ Edwina      ┆   ┆             ┆          ┆         ┆          │\n",
       "│              ┆          ┆        ┆ Celia \"Wi…  ┆   ┆             ┆          ┆         ┆          │\n",
       "│ 773          ┆ 0        ┆ 2      ┆ Mack, Mrs.  ┆ … ┆ S.O./P.P. 3 ┆ 10.5     ┆ E77     ┆ S        │\n",
       "│              ┆          ┆        ┆ (Mary)      ┆   ┆             ┆          ┆         ┆          │\n",
       "└──────────────┴──────────┴────────┴─────────────┴───┴─────────────┴──────────┴─────────┴──────────┘"
      ]
     },
     "execution_count": 4,
     "metadata": {},
     "output_type": "execute_result"
    }
   ],
   "source": [
    "# Example: females in 1st/2nd class, sorted by fare descending\n",
    "titanic.filter(\n",
    "    (pl.col(\"sex\") == \"female\") & (pl.col(\"pclass\") <= 2)\n",
    ").sort(\"fare\", descending=True)"
   ]
  },
  {
   "cell_type": "markdown",
   "id": "6d649867",
   "metadata": {},
   "source": [
    "\n",
    "## 5) `with_columns()` to create new columns using Expressions\n",
    "\n",
    "`dataframe_name.with_columns()` will add columns to the data frame.\n",
    "\n",
    "Provide a list of newly defined columns using expressions.\n",
    "\n",
    "Name the columns with `.alias()`\n",
    "\n",
    "One of the example expressions below is a `when-then-otherwise`\n",
    "\n",
    "Learn more at: https://docs.pola.rs/api/python/stable/reference/expressions/api/polars.when.html\n",
    "\n",
    "we use `.lit()` to return a literal value, otherwise, Polars will look for a column called \"adult\" or a column called \"child\""
   ]
  },
  {
   "cell_type": "code",
   "execution_count": 5,
   "id": "97a78dd3",
   "metadata": {},
   "outputs": [
    {
     "data": {
      "text/html": [
       "<div><style>\n",
       ".dataframe > thead > tr,\n",
       ".dataframe > tbody > tr {\n",
       "  text-align: right;\n",
       "  white-space: pre-wrap;\n",
       "}\n",
       "</style>\n",
       "<small>shape: (891, 14)</small><table border=\"1\" class=\"dataframe\"><thead><tr><th>passengerid</th><th>survived</th><th>pclass</th><th>name</th><th>sex</th><th>age</th><th>sibsp</th><th>parch</th><th>ticket</th><th>fare</th><th>cabin</th><th>embarked</th><th>family_size</th><th>age_group</th></tr><tr><td>i64</td><td>i64</td><td>i64</td><td>str</td><td>str</td><td>f64</td><td>i64</td><td>i64</td><td>str</td><td>f64</td><td>str</td><td>str</td><td>i64</td><td>str</td></tr></thead><tbody><tr><td>1</td><td>0</td><td>3</td><td>&quot;Braund, Mr. Owen Harris&quot;</td><td>&quot;male&quot;</td><td>22.0</td><td>1</td><td>0</td><td>&quot;A/5 21171&quot;</td><td>7.25</td><td>null</td><td>&quot;S&quot;</td><td>1</td><td>&quot;adult&quot;</td></tr><tr><td>2</td><td>1</td><td>1</td><td>&quot;Cumings, Mrs. John Bradley (Fl…</td><td>&quot;female&quot;</td><td>38.0</td><td>1</td><td>0</td><td>&quot;PC 17599&quot;</td><td>71.2833</td><td>&quot;C85&quot;</td><td>&quot;C&quot;</td><td>1</td><td>&quot;adult&quot;</td></tr><tr><td>3</td><td>1</td><td>3</td><td>&quot;Heikkinen, Miss. Laina&quot;</td><td>&quot;female&quot;</td><td>26.0</td><td>0</td><td>0</td><td>&quot;STON/O2. 3101282&quot;</td><td>7.925</td><td>null</td><td>&quot;S&quot;</td><td>0</td><td>&quot;adult&quot;</td></tr><tr><td>4</td><td>1</td><td>1</td><td>&quot;Futrelle, Mrs. Jacques Heath (…</td><td>&quot;female&quot;</td><td>35.0</td><td>1</td><td>0</td><td>&quot;113803&quot;</td><td>53.1</td><td>&quot;C123&quot;</td><td>&quot;S&quot;</td><td>1</td><td>&quot;adult&quot;</td></tr><tr><td>5</td><td>0</td><td>3</td><td>&quot;Allen, Mr. William Henry&quot;</td><td>&quot;male&quot;</td><td>35.0</td><td>0</td><td>0</td><td>&quot;373450&quot;</td><td>8.05</td><td>null</td><td>&quot;S&quot;</td><td>0</td><td>&quot;adult&quot;</td></tr><tr><td>&hellip;</td><td>&hellip;</td><td>&hellip;</td><td>&hellip;</td><td>&hellip;</td><td>&hellip;</td><td>&hellip;</td><td>&hellip;</td><td>&hellip;</td><td>&hellip;</td><td>&hellip;</td><td>&hellip;</td><td>&hellip;</td><td>&hellip;</td></tr><tr><td>887</td><td>0</td><td>2</td><td>&quot;Montvila, Rev. Juozas&quot;</td><td>&quot;male&quot;</td><td>27.0</td><td>0</td><td>0</td><td>&quot;211536&quot;</td><td>13.0</td><td>null</td><td>&quot;S&quot;</td><td>0</td><td>&quot;adult&quot;</td></tr><tr><td>888</td><td>1</td><td>1</td><td>&quot;Graham, Miss. Margaret Edith&quot;</td><td>&quot;female&quot;</td><td>19.0</td><td>0</td><td>0</td><td>&quot;112053&quot;</td><td>30.0</td><td>&quot;B42&quot;</td><td>&quot;S&quot;</td><td>0</td><td>&quot;adult&quot;</td></tr><tr><td>889</td><td>0</td><td>3</td><td>&quot;Johnston, Miss. Catherine Hele…</td><td>&quot;female&quot;</td><td>null</td><td>1</td><td>2</td><td>&quot;W./C. 6607&quot;</td><td>23.45</td><td>null</td><td>&quot;S&quot;</td><td>3</td><td>&quot;child&quot;</td></tr><tr><td>890</td><td>1</td><td>1</td><td>&quot;Behr, Mr. Karl Howell&quot;</td><td>&quot;male&quot;</td><td>26.0</td><td>0</td><td>0</td><td>&quot;111369&quot;</td><td>30.0</td><td>&quot;C148&quot;</td><td>&quot;C&quot;</td><td>0</td><td>&quot;adult&quot;</td></tr><tr><td>891</td><td>0</td><td>3</td><td>&quot;Dooley, Mr. Patrick&quot;</td><td>&quot;male&quot;</td><td>32.0</td><td>0</td><td>0</td><td>&quot;370376&quot;</td><td>7.75</td><td>null</td><td>&quot;Q&quot;</td><td>0</td><td>&quot;adult&quot;</td></tr></tbody></table></div>"
      ],
      "text/plain": [
       "shape: (891, 14)\n",
       "┌─────────────┬──────────┬────────┬───────────────┬───┬───────┬──────────┬─────────────┬───────────┐\n",
       "│ passengerid ┆ survived ┆ pclass ┆ name          ┆ … ┆ cabin ┆ embarked ┆ family_size ┆ age_group │\n",
       "│ ---         ┆ ---      ┆ ---    ┆ ---           ┆   ┆ ---   ┆ ---      ┆ ---         ┆ ---       │\n",
       "│ i64         ┆ i64      ┆ i64    ┆ str           ┆   ┆ str   ┆ str      ┆ i64         ┆ str       │\n",
       "╞═════════════╪══════════╪════════╪═══════════════╪═══╪═══════╪══════════╪═════════════╪═══════════╡\n",
       "│ 1           ┆ 0        ┆ 3      ┆ Braund, Mr.   ┆ … ┆ null  ┆ S        ┆ 1           ┆ adult     │\n",
       "│             ┆          ┆        ┆ Owen Harris   ┆   ┆       ┆          ┆             ┆           │\n",
       "│ 2           ┆ 1        ┆ 1      ┆ Cumings, Mrs. ┆ … ┆ C85   ┆ C        ┆ 1           ┆ adult     │\n",
       "│             ┆          ┆        ┆ John Bradley  ┆   ┆       ┆          ┆             ┆           │\n",
       "│             ┆          ┆        ┆ (Fl…          ┆   ┆       ┆          ┆             ┆           │\n",
       "│ 3           ┆ 1        ┆ 3      ┆ Heikkinen,    ┆ … ┆ null  ┆ S        ┆ 0           ┆ adult     │\n",
       "│             ┆          ┆        ┆ Miss. Laina   ┆   ┆       ┆          ┆             ┆           │\n",
       "│ 4           ┆ 1        ┆ 1      ┆ Futrelle,     ┆ … ┆ C123  ┆ S        ┆ 1           ┆ adult     │\n",
       "│             ┆          ┆        ┆ Mrs. Jacques  ┆   ┆       ┆          ┆             ┆           │\n",
       "│             ┆          ┆        ┆ Heath (…      ┆   ┆       ┆          ┆             ┆           │\n",
       "│ 5           ┆ 0        ┆ 3      ┆ Allen, Mr.    ┆ … ┆ null  ┆ S        ┆ 0           ┆ adult     │\n",
       "│             ┆          ┆        ┆ William Henry ┆   ┆       ┆          ┆             ┆           │\n",
       "│ …           ┆ …        ┆ …      ┆ …             ┆ … ┆ …     ┆ …        ┆ …           ┆ …         │\n",
       "│ 887         ┆ 0        ┆ 2      ┆ Montvila,     ┆ … ┆ null  ┆ S        ┆ 0           ┆ adult     │\n",
       "│             ┆          ┆        ┆ Rev. Juozas   ┆   ┆       ┆          ┆             ┆           │\n",
       "│ 888         ┆ 1        ┆ 1      ┆ Graham, Miss. ┆ … ┆ B42   ┆ S        ┆ 0           ┆ adult     │\n",
       "│             ┆          ┆        ┆ Margaret      ┆   ┆       ┆          ┆             ┆           │\n",
       "│             ┆          ┆        ┆ Edith         ┆   ┆       ┆          ┆             ┆           │\n",
       "│ 889         ┆ 0        ┆ 3      ┆ Johnston,     ┆ … ┆ null  ┆ S        ┆ 3           ┆ child     │\n",
       "│             ┆          ┆        ┆ Miss.         ┆   ┆       ┆          ┆             ┆           │\n",
       "│             ┆          ┆        ┆ Catherine     ┆   ┆       ┆          ┆             ┆           │\n",
       "│             ┆          ┆        ┆ Hele…         ┆   ┆       ┆          ┆             ┆           │\n",
       "│ 890         ┆ 1        ┆ 1      ┆ Behr, Mr.     ┆ … ┆ C148  ┆ C        ┆ 0           ┆ adult     │\n",
       "│             ┆          ┆        ┆ Karl Howell   ┆   ┆       ┆          ┆             ┆           │\n",
       "│ 891         ┆ 0        ┆ 3      ┆ Dooley, Mr.   ┆ … ┆ null  ┆ Q        ┆ 0           ┆ adult     │\n",
       "│             ┆          ┆        ┆ Patrick       ┆   ┆       ┆          ┆             ┆           │\n",
       "└─────────────┴──────────┴────────┴───────────────┴───┴───────┴──────────┴─────────────┴───────────┘"
      ]
     },
     "execution_count": 5,
     "metadata": {},
     "output_type": "execute_result"
    }
   ],
   "source": [
    "titanic_augmented = titanic.with_columns([\n",
    "    (pl.col(\"sibsp\") + pl.col(\"parch\")).alias(\"family_size\"),\n",
    "    pl.when(pl.col(\"age\") >= 18)\n",
    "      .then(pl.lit(\"adult\"))\n",
    "      .otherwise(pl.lit(\"child\"))\n",
    "      .alias(\"age_group\")\n",
    "])\n",
    "titanic_augmented"
   ]
  },
  {
   "cell_type": "markdown",
   "id": "9a9c7397",
   "metadata": {},
   "source": [
    "### Window Expressions\n",
    "\n",
    "`.over()` will compute an expression over given groups.\n",
    "\n",
    "See the example below where mean is calculated for all passengers, and then calculated for each passenger class"
   ]
  },
  {
   "cell_type": "code",
   "execution_count": 6,
   "id": "1bc36097",
   "metadata": {},
   "outputs": [
    {
     "data": {
      "text/html": [
       "<div><style>\n",
       ".dataframe > thead > tr,\n",
       ".dataframe > tbody > tr {\n",
       "  text-align: right;\n",
       "  white-space: pre-wrap;\n",
       "}\n",
       "</style>\n",
       "<small>shape: (891, 14)</small><table border=\"1\" class=\"dataframe\"><thead><tr><th>passengerid</th><th>survived</th><th>pclass</th><th>name</th><th>sex</th><th>age</th><th>sibsp</th><th>parch</th><th>ticket</th><th>fare</th><th>cabin</th><th>embarked</th><th>mean_fare</th><th>mean_fare_by_pclass</th></tr><tr><td>i64</td><td>i64</td><td>i64</td><td>str</td><td>str</td><td>f64</td><td>i64</td><td>i64</td><td>str</td><td>f64</td><td>str</td><td>str</td><td>f64</td><td>f64</td></tr></thead><tbody><tr><td>1</td><td>0</td><td>3</td><td>&quot;Braund, Mr. Owen Harris&quot;</td><td>&quot;male&quot;</td><td>22.0</td><td>1</td><td>0</td><td>&quot;A/5 21171&quot;</td><td>7.25</td><td>null</td><td>&quot;S&quot;</td><td>32.204208</td><td>13.67555</td></tr><tr><td>2</td><td>1</td><td>1</td><td>&quot;Cumings, Mrs. John Bradley (Fl…</td><td>&quot;female&quot;</td><td>38.0</td><td>1</td><td>0</td><td>&quot;PC 17599&quot;</td><td>71.2833</td><td>&quot;C85&quot;</td><td>&quot;C&quot;</td><td>32.204208</td><td>84.154687</td></tr><tr><td>3</td><td>1</td><td>3</td><td>&quot;Heikkinen, Miss. Laina&quot;</td><td>&quot;female&quot;</td><td>26.0</td><td>0</td><td>0</td><td>&quot;STON/O2. 3101282&quot;</td><td>7.925</td><td>null</td><td>&quot;S&quot;</td><td>32.204208</td><td>13.67555</td></tr><tr><td>4</td><td>1</td><td>1</td><td>&quot;Futrelle, Mrs. Jacques Heath (…</td><td>&quot;female&quot;</td><td>35.0</td><td>1</td><td>0</td><td>&quot;113803&quot;</td><td>53.1</td><td>&quot;C123&quot;</td><td>&quot;S&quot;</td><td>32.204208</td><td>84.154687</td></tr><tr><td>5</td><td>0</td><td>3</td><td>&quot;Allen, Mr. William Henry&quot;</td><td>&quot;male&quot;</td><td>35.0</td><td>0</td><td>0</td><td>&quot;373450&quot;</td><td>8.05</td><td>null</td><td>&quot;S&quot;</td><td>32.204208</td><td>13.67555</td></tr><tr><td>&hellip;</td><td>&hellip;</td><td>&hellip;</td><td>&hellip;</td><td>&hellip;</td><td>&hellip;</td><td>&hellip;</td><td>&hellip;</td><td>&hellip;</td><td>&hellip;</td><td>&hellip;</td><td>&hellip;</td><td>&hellip;</td><td>&hellip;</td></tr><tr><td>887</td><td>0</td><td>2</td><td>&quot;Montvila, Rev. Juozas&quot;</td><td>&quot;male&quot;</td><td>27.0</td><td>0</td><td>0</td><td>&quot;211536&quot;</td><td>13.0</td><td>null</td><td>&quot;S&quot;</td><td>32.204208</td><td>20.662183</td></tr><tr><td>888</td><td>1</td><td>1</td><td>&quot;Graham, Miss. Margaret Edith&quot;</td><td>&quot;female&quot;</td><td>19.0</td><td>0</td><td>0</td><td>&quot;112053&quot;</td><td>30.0</td><td>&quot;B42&quot;</td><td>&quot;S&quot;</td><td>32.204208</td><td>84.154687</td></tr><tr><td>889</td><td>0</td><td>3</td><td>&quot;Johnston, Miss. Catherine Hele…</td><td>&quot;female&quot;</td><td>null</td><td>1</td><td>2</td><td>&quot;W./C. 6607&quot;</td><td>23.45</td><td>null</td><td>&quot;S&quot;</td><td>32.204208</td><td>13.67555</td></tr><tr><td>890</td><td>1</td><td>1</td><td>&quot;Behr, Mr. Karl Howell&quot;</td><td>&quot;male&quot;</td><td>26.0</td><td>0</td><td>0</td><td>&quot;111369&quot;</td><td>30.0</td><td>&quot;C148&quot;</td><td>&quot;C&quot;</td><td>32.204208</td><td>84.154687</td></tr><tr><td>891</td><td>0</td><td>3</td><td>&quot;Dooley, Mr. Patrick&quot;</td><td>&quot;male&quot;</td><td>32.0</td><td>0</td><td>0</td><td>&quot;370376&quot;</td><td>7.75</td><td>null</td><td>&quot;Q&quot;</td><td>32.204208</td><td>13.67555</td></tr></tbody></table></div>"
      ],
      "text/plain": [
       "shape: (891, 14)\n",
       "┌─────────────┬──────────┬────────┬──────────────┬───┬───────┬──────────┬───────────┬──────────────┐\n",
       "│ passengerid ┆ survived ┆ pclass ┆ name         ┆ … ┆ cabin ┆ embarked ┆ mean_fare ┆ mean_fare_by │\n",
       "│ ---         ┆ ---      ┆ ---    ┆ ---          ┆   ┆ ---   ┆ ---      ┆ ---       ┆ _pclass      │\n",
       "│ i64         ┆ i64      ┆ i64    ┆ str          ┆   ┆ str   ┆ str      ┆ f64       ┆ ---          │\n",
       "│             ┆          ┆        ┆              ┆   ┆       ┆          ┆           ┆ f64          │\n",
       "╞═════════════╪══════════╪════════╪══════════════╪═══╪═══════╪══════════╪═══════════╪══════════════╡\n",
       "│ 1           ┆ 0        ┆ 3      ┆ Braund, Mr.  ┆ … ┆ null  ┆ S        ┆ 32.204208 ┆ 13.67555     │\n",
       "│             ┆          ┆        ┆ Owen Harris  ┆   ┆       ┆          ┆           ┆              │\n",
       "│ 2           ┆ 1        ┆ 1      ┆ Cumings,     ┆ … ┆ C85   ┆ C        ┆ 32.204208 ┆ 84.154687    │\n",
       "│             ┆          ┆        ┆ Mrs. John    ┆   ┆       ┆          ┆           ┆              │\n",
       "│             ┆          ┆        ┆ Bradley (Fl… ┆   ┆       ┆          ┆           ┆              │\n",
       "│ 3           ┆ 1        ┆ 3      ┆ Heikkinen,   ┆ … ┆ null  ┆ S        ┆ 32.204208 ┆ 13.67555     │\n",
       "│             ┆          ┆        ┆ Miss. Laina  ┆   ┆       ┆          ┆           ┆              │\n",
       "│ 4           ┆ 1        ┆ 1      ┆ Futrelle,    ┆ … ┆ C123  ┆ S        ┆ 32.204208 ┆ 84.154687    │\n",
       "│             ┆          ┆        ┆ Mrs. Jacques ┆   ┆       ┆          ┆           ┆              │\n",
       "│             ┆          ┆        ┆ Heath (…     ┆   ┆       ┆          ┆           ┆              │\n",
       "│ 5           ┆ 0        ┆ 3      ┆ Allen, Mr.   ┆ … ┆ null  ┆ S        ┆ 32.204208 ┆ 13.67555     │\n",
       "│             ┆          ┆        ┆ William      ┆   ┆       ┆          ┆           ┆              │\n",
       "│             ┆          ┆        ┆ Henry        ┆   ┆       ┆          ┆           ┆              │\n",
       "│ …           ┆ …        ┆ …      ┆ …            ┆ … ┆ …     ┆ …        ┆ …         ┆ …            │\n",
       "│ 887         ┆ 0        ┆ 2      ┆ Montvila,    ┆ … ┆ null  ┆ S        ┆ 32.204208 ┆ 20.662183    │\n",
       "│             ┆          ┆        ┆ Rev. Juozas  ┆   ┆       ┆          ┆           ┆              │\n",
       "│ 888         ┆ 1        ┆ 1      ┆ Graham,      ┆ … ┆ B42   ┆ S        ┆ 32.204208 ┆ 84.154687    │\n",
       "│             ┆          ┆        ┆ Miss.        ┆   ┆       ┆          ┆           ┆              │\n",
       "│             ┆          ┆        ┆ Margaret     ┆   ┆       ┆          ┆           ┆              │\n",
       "│             ┆          ┆        ┆ Edith        ┆   ┆       ┆          ┆           ┆              │\n",
       "│ 889         ┆ 0        ┆ 3      ┆ Johnston,    ┆ … ┆ null  ┆ S        ┆ 32.204208 ┆ 13.67555     │\n",
       "│             ┆          ┆        ┆ Miss.        ┆   ┆       ┆          ┆           ┆              │\n",
       "│             ┆          ┆        ┆ Catherine    ┆   ┆       ┆          ┆           ┆              │\n",
       "│             ┆          ┆        ┆ Hele…        ┆   ┆       ┆          ┆           ┆              │\n",
       "│ 890         ┆ 1        ┆ 1      ┆ Behr, Mr.    ┆ … ┆ C148  ┆ C        ┆ 32.204208 ┆ 84.154687    │\n",
       "│             ┆          ┆        ┆ Karl Howell  ┆   ┆       ┆          ┆           ┆              │\n",
       "│ 891         ┆ 0        ┆ 3      ┆ Dooley, Mr.  ┆ … ┆ null  ┆ Q        ┆ 32.204208 ┆ 13.67555     │\n",
       "│             ┆          ┆        ┆ Patrick      ┆   ┆       ┆          ┆           ┆              │\n",
       "└─────────────┴──────────┴────────┴──────────────┴───┴───────┴──────────┴───────────┴──────────────┘"
      ]
     },
     "execution_count": 6,
     "metadata": {},
     "output_type": "execute_result"
    }
   ],
   "source": [
    "titanic.with_columns(\n",
    "    pl.col(\"fare\").mean().alias(\"mean_fare\"),\n",
    "    pl.col(\"fare\").mean().over(\"pclass\").alias(\"mean_fare_by_pclass\")\n",
    ")"
   ]
  },
  {
   "cell_type": "markdown",
   "id": "d1e536a1",
   "metadata": {},
   "source": [
    "\n",
    "## 6) Handling Missing Data\n",
    "\n",
    "Use `is_null`, `is_not_null` to identify missing values.\n",
    "\n",
    "Use `fill_null` to fill missing values. This can be paired with `.over()` to fill with averages calculated for groups.\n"
   ]
  },
  {
   "cell_type": "code",
   "execution_count": 7,
   "id": "14610b0d",
   "metadata": {},
   "outputs": [
    {
     "data": {
      "text/html": [
       "<div><style>\n",
       ".dataframe > thead > tr,\n",
       ".dataframe > tbody > tr {\n",
       "  text-align: right;\n",
       "  white-space: pre-wrap;\n",
       "}\n",
       "</style>\n",
       "<small>shape: (891, 3)</small><table border=\"1\" class=\"dataframe\"><thead><tr><th>passengerid</th><th>age</th><th>age_is_missing</th></tr><tr><td>i64</td><td>f64</td><td>bool</td></tr></thead><tbody><tr><td>1</td><td>22.0</td><td>false</td></tr><tr><td>2</td><td>38.0</td><td>false</td></tr><tr><td>3</td><td>26.0</td><td>false</td></tr><tr><td>4</td><td>35.0</td><td>false</td></tr><tr><td>5</td><td>35.0</td><td>false</td></tr><tr><td>&hellip;</td><td>&hellip;</td><td>&hellip;</td></tr><tr><td>887</td><td>27.0</td><td>false</td></tr><tr><td>888</td><td>19.0</td><td>false</td></tr><tr><td>889</td><td>null</td><td>true</td></tr><tr><td>890</td><td>26.0</td><td>false</td></tr><tr><td>891</td><td>32.0</td><td>false</td></tr></tbody></table></div>"
      ],
      "text/plain": [
       "shape: (891, 3)\n",
       "┌─────────────┬──────┬────────────────┐\n",
       "│ passengerid ┆ age  ┆ age_is_missing │\n",
       "│ ---         ┆ ---  ┆ ---            │\n",
       "│ i64         ┆ f64  ┆ bool           │\n",
       "╞═════════════╪══════╪════════════════╡\n",
       "│ 1           ┆ 22.0 ┆ false          │\n",
       "│ 2           ┆ 38.0 ┆ false          │\n",
       "│ 3           ┆ 26.0 ┆ false          │\n",
       "│ 4           ┆ 35.0 ┆ false          │\n",
       "│ 5           ┆ 35.0 ┆ false          │\n",
       "│ …           ┆ …    ┆ …              │\n",
       "│ 887         ┆ 27.0 ┆ false          │\n",
       "│ 888         ┆ 19.0 ┆ false          │\n",
       "│ 889         ┆ null ┆ true           │\n",
       "│ 890         ┆ 26.0 ┆ false          │\n",
       "│ 891         ┆ 32.0 ┆ false          │\n",
       "└─────────────┴──────┴────────────────┘"
      ]
     },
     "execution_count": 7,
     "metadata": {},
     "output_type": "execute_result"
    }
   ],
   "source": [
    "# Identify missing ages\n",
    "missing_age = titanic.select([\n",
    "    \"passengerid\",\n",
    "    \"age\",\n",
    "    pl.col(\"age\").is_null().alias(\"age_is_missing\")\n",
    "])\n",
    "missing_age"
   ]
  },
  {
   "cell_type": "code",
   "execution_count": 8,
   "id": "cd42a12b",
   "metadata": {},
   "outputs": [
    {
     "data": {
      "text/html": [
       "<div><style>\n",
       ".dataframe > thead > tr,\n",
       ".dataframe > tbody > tr {\n",
       "  text-align: right;\n",
       "  white-space: pre-wrap;\n",
       "}\n",
       "</style>\n",
       "<small>shape: (891, 13)</small><table border=\"1\" class=\"dataframe\"><thead><tr><th>passengerid</th><th>survived</th><th>pclass</th><th>name</th><th>sex</th><th>age</th><th>sibsp</th><th>parch</th><th>ticket</th><th>fare</th><th>cabin</th><th>embarked</th><th>age_filled</th></tr><tr><td>i64</td><td>i64</td><td>i64</td><td>str</td><td>str</td><td>f64</td><td>i64</td><td>i64</td><td>str</td><td>f64</td><td>str</td><td>str</td><td>f64</td></tr></thead><tbody><tr><td>1</td><td>0</td><td>3</td><td>&quot;Braund, Mr. Owen Harris&quot;</td><td>&quot;male&quot;</td><td>22.0</td><td>1</td><td>0</td><td>&quot;A/5 21171&quot;</td><td>7.25</td><td>null</td><td>&quot;S&quot;</td><td>22.0</td></tr><tr><td>2</td><td>1</td><td>1</td><td>&quot;Cumings, Mrs. John Bradley (Fl…</td><td>&quot;female&quot;</td><td>38.0</td><td>1</td><td>0</td><td>&quot;PC 17599&quot;</td><td>71.2833</td><td>&quot;C85&quot;</td><td>&quot;C&quot;</td><td>38.0</td></tr><tr><td>3</td><td>1</td><td>3</td><td>&quot;Heikkinen, Miss. Laina&quot;</td><td>&quot;female&quot;</td><td>26.0</td><td>0</td><td>0</td><td>&quot;STON/O2. 3101282&quot;</td><td>7.925</td><td>null</td><td>&quot;S&quot;</td><td>26.0</td></tr><tr><td>4</td><td>1</td><td>1</td><td>&quot;Futrelle, Mrs. Jacques Heath (…</td><td>&quot;female&quot;</td><td>35.0</td><td>1</td><td>0</td><td>&quot;113803&quot;</td><td>53.1</td><td>&quot;C123&quot;</td><td>&quot;S&quot;</td><td>35.0</td></tr><tr><td>5</td><td>0</td><td>3</td><td>&quot;Allen, Mr. William Henry&quot;</td><td>&quot;male&quot;</td><td>35.0</td><td>0</td><td>0</td><td>&quot;373450&quot;</td><td>8.05</td><td>null</td><td>&quot;S&quot;</td><td>35.0</td></tr><tr><td>&hellip;</td><td>&hellip;</td><td>&hellip;</td><td>&hellip;</td><td>&hellip;</td><td>&hellip;</td><td>&hellip;</td><td>&hellip;</td><td>&hellip;</td><td>&hellip;</td><td>&hellip;</td><td>&hellip;</td><td>&hellip;</td></tr><tr><td>887</td><td>0</td><td>2</td><td>&quot;Montvila, Rev. Juozas&quot;</td><td>&quot;male&quot;</td><td>27.0</td><td>0</td><td>0</td><td>&quot;211536&quot;</td><td>13.0</td><td>null</td><td>&quot;S&quot;</td><td>27.0</td></tr><tr><td>888</td><td>1</td><td>1</td><td>&quot;Graham, Miss. Margaret Edith&quot;</td><td>&quot;female&quot;</td><td>19.0</td><td>0</td><td>0</td><td>&quot;112053&quot;</td><td>30.0</td><td>&quot;B42&quot;</td><td>&quot;S&quot;</td><td>19.0</td></tr><tr><td>889</td><td>0</td><td>3</td><td>&quot;Johnston, Miss. Catherine Hele…</td><td>&quot;female&quot;</td><td>null</td><td>1</td><td>2</td><td>&quot;W./C. 6607&quot;</td><td>23.45</td><td>null</td><td>&quot;S&quot;</td><td>21.75</td></tr><tr><td>890</td><td>1</td><td>1</td><td>&quot;Behr, Mr. Karl Howell&quot;</td><td>&quot;male&quot;</td><td>26.0</td><td>0</td><td>0</td><td>&quot;111369&quot;</td><td>30.0</td><td>&quot;C148&quot;</td><td>&quot;C&quot;</td><td>26.0</td></tr><tr><td>891</td><td>0</td><td>3</td><td>&quot;Dooley, Mr. Patrick&quot;</td><td>&quot;male&quot;</td><td>32.0</td><td>0</td><td>0</td><td>&quot;370376&quot;</td><td>7.75</td><td>null</td><td>&quot;Q&quot;</td><td>32.0</td></tr></tbody></table></div>"
      ],
      "text/plain": [
       "shape: (891, 13)\n",
       "┌─────────────┬──────────┬────────┬──────────────────┬───┬─────────┬───────┬──────────┬────────────┐\n",
       "│ passengerid ┆ survived ┆ pclass ┆ name             ┆ … ┆ fare    ┆ cabin ┆ embarked ┆ age_filled │\n",
       "│ ---         ┆ ---      ┆ ---    ┆ ---              ┆   ┆ ---     ┆ ---   ┆ ---      ┆ ---        │\n",
       "│ i64         ┆ i64      ┆ i64    ┆ str              ┆   ┆ f64     ┆ str   ┆ str      ┆ f64        │\n",
       "╞═════════════╪══════════╪════════╪══════════════════╪═══╪═════════╪═══════╪══════════╪════════════╡\n",
       "│ 1           ┆ 0        ┆ 3      ┆ Braund, Mr. Owen ┆ … ┆ 7.25    ┆ null  ┆ S        ┆ 22.0       │\n",
       "│             ┆          ┆        ┆ Harris           ┆   ┆         ┆       ┆          ┆            │\n",
       "│ 2           ┆ 1        ┆ 1      ┆ Cumings, Mrs.    ┆ … ┆ 71.2833 ┆ C85   ┆ C        ┆ 38.0       │\n",
       "│             ┆          ┆        ┆ John Bradley     ┆   ┆         ┆       ┆          ┆            │\n",
       "│             ┆          ┆        ┆ (Fl…             ┆   ┆         ┆       ┆          ┆            │\n",
       "│ 3           ┆ 1        ┆ 3      ┆ Heikkinen, Miss. ┆ … ┆ 7.925   ┆ null  ┆ S        ┆ 26.0       │\n",
       "│             ┆          ┆        ┆ Laina            ┆   ┆         ┆       ┆          ┆            │\n",
       "│ 4           ┆ 1        ┆ 1      ┆ Futrelle, Mrs.   ┆ … ┆ 53.1    ┆ C123  ┆ S        ┆ 35.0       │\n",
       "│             ┆          ┆        ┆ Jacques Heath (… ┆   ┆         ┆       ┆          ┆            │\n",
       "│ 5           ┆ 0        ┆ 3      ┆ Allen, Mr.       ┆ … ┆ 8.05    ┆ null  ┆ S        ┆ 35.0       │\n",
       "│             ┆          ┆        ┆ William Henry    ┆   ┆         ┆       ┆          ┆            │\n",
       "│ …           ┆ …        ┆ …      ┆ …                ┆ … ┆ …       ┆ …     ┆ …        ┆ …          │\n",
       "│ 887         ┆ 0        ┆ 2      ┆ Montvila, Rev.   ┆ … ┆ 13.0    ┆ null  ┆ S        ┆ 27.0       │\n",
       "│             ┆          ┆        ┆ Juozas           ┆   ┆         ┆       ┆          ┆            │\n",
       "│ 888         ┆ 1        ┆ 1      ┆ Graham, Miss.    ┆ … ┆ 30.0    ┆ B42   ┆ S        ┆ 19.0       │\n",
       "│             ┆          ┆        ┆ Margaret Edith   ┆   ┆         ┆       ┆          ┆            │\n",
       "│ 889         ┆ 0        ┆ 3      ┆ Johnston, Miss.  ┆ … ┆ 23.45   ┆ null  ┆ S        ┆ 21.75      │\n",
       "│             ┆          ┆        ┆ Catherine Hele…  ┆   ┆         ┆       ┆          ┆            │\n",
       "│ 890         ┆ 1        ┆ 1      ┆ Behr, Mr. Karl   ┆ … ┆ 30.0    ┆ C148  ┆ C        ┆ 26.0       │\n",
       "│             ┆          ┆        ┆ Howell           ┆   ┆         ┆       ┆          ┆            │\n",
       "│ 891         ┆ 0        ┆ 3      ┆ Dooley, Mr.      ┆ … ┆ 7.75    ┆ null  ┆ Q        ┆ 32.0       │\n",
       "│             ┆          ┆        ┆ Patrick          ┆   ┆         ┆       ┆          ┆            │\n",
       "└─────────────┴──────────┴────────┴──────────────────┴───┴─────────┴───────┴──────────┴────────────┘"
      ]
     },
     "execution_count": 8,
     "metadata": {},
     "output_type": "execute_result"
    }
   ],
   "source": [
    "# Example: fill missing age with class/sex mean\n",
    "filled_age = titanic.with_columns(\n",
    "    pl.col(\"age\").fill_null(\n",
    "        pl.col(\"age\").mean().over([\"pclass\",\"sex\"])\n",
    "    ).alias(\"age_filled\")\n",
    ")\n",
    "filled_age"
   ]
  },
  {
   "cell_type": "markdown",
   "id": "cd1c6d81",
   "metadata": {},
   "source": [
    "\n",
    "## 7) Grouped Aggregations\n",
    "\n",
    "Use `.group_by()` to create groups. Then us `.agg()` to specify expressions for aggregate (summary) values.\n"
   ]
  },
  {
   "cell_type": "code",
   "execution_count": 9,
   "id": "5a29d7da",
   "metadata": {},
   "outputs": [
    {
     "data": {
      "text/html": [
       "<div><style>\n",
       ".dataframe > thead > tr,\n",
       ".dataframe > tbody > tr {\n",
       "  text-align: right;\n",
       "  white-space: pre-wrap;\n",
       "}\n",
       "</style>\n",
       "<small>shape: (6, 6)</small><table border=\"1\" class=\"dataframe\"><thead><tr><th>pclass</th><th>sex</th><th>survival_rate</th><th>avg_fare</th><th>avg_age</th><th>n</th></tr><tr><td>i64</td><td>str</td><td>f64</td><td>f64</td><td>f64</td><td>u32</td></tr></thead><tbody><tr><td>1</td><td>&quot;female&quot;</td><td>0.968085</td><td>106.125798</td><td>34.611765</td><td>94</td></tr><tr><td>1</td><td>&quot;male&quot;</td><td>0.368852</td><td>67.226127</td><td>41.281386</td><td>122</td></tr><tr><td>2</td><td>&quot;female&quot;</td><td>0.921053</td><td>21.970121</td><td>28.722973</td><td>76</td></tr><tr><td>2</td><td>&quot;male&quot;</td><td>0.157407</td><td>19.741782</td><td>30.740707</td><td>108</td></tr><tr><td>3</td><td>&quot;female&quot;</td><td>0.5</td><td>16.11881</td><td>21.75</td><td>144</td></tr><tr><td>3</td><td>&quot;male&quot;</td><td>0.135447</td><td>12.661633</td><td>26.507589</td><td>347</td></tr></tbody></table></div>"
      ],
      "text/plain": [
       "shape: (6, 6)\n",
       "┌────────┬────────┬───────────────┬────────────┬───────────┬─────┐\n",
       "│ pclass ┆ sex    ┆ survival_rate ┆ avg_fare   ┆ avg_age   ┆ n   │\n",
       "│ ---    ┆ ---    ┆ ---           ┆ ---        ┆ ---       ┆ --- │\n",
       "│ i64    ┆ str    ┆ f64           ┆ f64        ┆ f64       ┆ u32 │\n",
       "╞════════╪════════╪═══════════════╪════════════╪═══════════╪═════╡\n",
       "│ 1      ┆ female ┆ 0.968085      ┆ 106.125798 ┆ 34.611765 ┆ 94  │\n",
       "│ 1      ┆ male   ┆ 0.368852      ┆ 67.226127  ┆ 41.281386 ┆ 122 │\n",
       "│ 2      ┆ female ┆ 0.921053      ┆ 21.970121  ┆ 28.722973 ┆ 76  │\n",
       "│ 2      ┆ male   ┆ 0.157407      ┆ 19.741782  ┆ 30.740707 ┆ 108 │\n",
       "│ 3      ┆ female ┆ 0.5           ┆ 16.11881   ┆ 21.75     ┆ 144 │\n",
       "│ 3      ┆ male   ┆ 0.135447      ┆ 12.661633  ┆ 26.507589 ┆ 347 │\n",
       "└────────┴────────┴───────────────┴────────────┴───────────┴─────┘"
      ]
     },
     "execution_count": 9,
     "metadata": {},
     "output_type": "execute_result"
    }
   ],
   "source": [
    "titanic.group_by([\"pclass\",\"sex\"]).agg([\n",
    "    pl.col(\"survived\").mean().alias(\"survival_rate\"),\n",
    "    pl.col(\"fare\").mean().alias(\"avg_fare\"),\n",
    "    pl.col(\"age\").mean().alias(\"avg_age\"),\n",
    "    pl.len().alias(\"n\")\n",
    "]).sort([\"pclass\",\"sex\"])"
   ]
  },
  {
   "cell_type": "markdown",
   "id": "c1784fb6",
   "metadata": {},
   "source": [
    "\n",
    "## 8) Joins\n",
    "\n",
    "You can join your data with another table.\n",
    "\n",
    "Here we map `embarked` codes to city names.\n",
    "\n",
    "https://docs.pola.rs/api/python/stable/reference/dataframe/api/polars.DataFrame.join.html"
   ]
  },
  {
   "cell_type": "code",
   "execution_count": 10,
   "id": "0b93c5bf",
   "metadata": {},
   "outputs": [
    {
     "data": {
      "text/html": [
       "<div><style>\n",
       ".dataframe > thead > tr,\n",
       ".dataframe > tbody > tr {\n",
       "  text-align: right;\n",
       "  white-space: pre-wrap;\n",
       "}\n",
       "</style>\n",
       "<small>shape: (891, 13)</small><table border=\"1\" class=\"dataframe\"><thead><tr><th>passengerid</th><th>survived</th><th>pclass</th><th>name</th><th>sex</th><th>age</th><th>sibsp</th><th>parch</th><th>ticket</th><th>fare</th><th>cabin</th><th>embarked</th><th>port_name</th></tr><tr><td>i64</td><td>i64</td><td>i64</td><td>str</td><td>str</td><td>f64</td><td>i64</td><td>i64</td><td>str</td><td>f64</td><td>str</td><td>str</td><td>str</td></tr></thead><tbody><tr><td>1</td><td>0</td><td>3</td><td>&quot;Braund, Mr. Owen Harris&quot;</td><td>&quot;male&quot;</td><td>22.0</td><td>1</td><td>0</td><td>&quot;A/5 21171&quot;</td><td>7.25</td><td>null</td><td>&quot;S&quot;</td><td>&quot;Southampton&quot;</td></tr><tr><td>2</td><td>1</td><td>1</td><td>&quot;Cumings, Mrs. John Bradley (Fl…</td><td>&quot;female&quot;</td><td>38.0</td><td>1</td><td>0</td><td>&quot;PC 17599&quot;</td><td>71.2833</td><td>&quot;C85&quot;</td><td>&quot;C&quot;</td><td>&quot;Cherbourg&quot;</td></tr><tr><td>3</td><td>1</td><td>3</td><td>&quot;Heikkinen, Miss. Laina&quot;</td><td>&quot;female&quot;</td><td>26.0</td><td>0</td><td>0</td><td>&quot;STON/O2. 3101282&quot;</td><td>7.925</td><td>null</td><td>&quot;S&quot;</td><td>&quot;Southampton&quot;</td></tr><tr><td>4</td><td>1</td><td>1</td><td>&quot;Futrelle, Mrs. Jacques Heath (…</td><td>&quot;female&quot;</td><td>35.0</td><td>1</td><td>0</td><td>&quot;113803&quot;</td><td>53.1</td><td>&quot;C123&quot;</td><td>&quot;S&quot;</td><td>&quot;Southampton&quot;</td></tr><tr><td>5</td><td>0</td><td>3</td><td>&quot;Allen, Mr. William Henry&quot;</td><td>&quot;male&quot;</td><td>35.0</td><td>0</td><td>0</td><td>&quot;373450&quot;</td><td>8.05</td><td>null</td><td>&quot;S&quot;</td><td>&quot;Southampton&quot;</td></tr><tr><td>&hellip;</td><td>&hellip;</td><td>&hellip;</td><td>&hellip;</td><td>&hellip;</td><td>&hellip;</td><td>&hellip;</td><td>&hellip;</td><td>&hellip;</td><td>&hellip;</td><td>&hellip;</td><td>&hellip;</td><td>&hellip;</td></tr><tr><td>887</td><td>0</td><td>2</td><td>&quot;Montvila, Rev. Juozas&quot;</td><td>&quot;male&quot;</td><td>27.0</td><td>0</td><td>0</td><td>&quot;211536&quot;</td><td>13.0</td><td>null</td><td>&quot;S&quot;</td><td>&quot;Southampton&quot;</td></tr><tr><td>888</td><td>1</td><td>1</td><td>&quot;Graham, Miss. Margaret Edith&quot;</td><td>&quot;female&quot;</td><td>19.0</td><td>0</td><td>0</td><td>&quot;112053&quot;</td><td>30.0</td><td>&quot;B42&quot;</td><td>&quot;S&quot;</td><td>&quot;Southampton&quot;</td></tr><tr><td>889</td><td>0</td><td>3</td><td>&quot;Johnston, Miss. Catherine Hele…</td><td>&quot;female&quot;</td><td>null</td><td>1</td><td>2</td><td>&quot;W./C. 6607&quot;</td><td>23.45</td><td>null</td><td>&quot;S&quot;</td><td>&quot;Southampton&quot;</td></tr><tr><td>890</td><td>1</td><td>1</td><td>&quot;Behr, Mr. Karl Howell&quot;</td><td>&quot;male&quot;</td><td>26.0</td><td>0</td><td>0</td><td>&quot;111369&quot;</td><td>30.0</td><td>&quot;C148&quot;</td><td>&quot;C&quot;</td><td>&quot;Cherbourg&quot;</td></tr><tr><td>891</td><td>0</td><td>3</td><td>&quot;Dooley, Mr. Patrick&quot;</td><td>&quot;male&quot;</td><td>32.0</td><td>0</td><td>0</td><td>&quot;370376&quot;</td><td>7.75</td><td>null</td><td>&quot;Q&quot;</td><td>&quot;Queenstown&quot;</td></tr></tbody></table></div>"
      ],
      "text/plain": [
       "shape: (891, 13)\n",
       "┌─────────────┬──────────┬────────┬─────────────────┬───┬─────────┬───────┬──────────┬─────────────┐\n",
       "│ passengerid ┆ survived ┆ pclass ┆ name            ┆ … ┆ fare    ┆ cabin ┆ embarked ┆ port_name   │\n",
       "│ ---         ┆ ---      ┆ ---    ┆ ---             ┆   ┆ ---     ┆ ---   ┆ ---      ┆ ---         │\n",
       "│ i64         ┆ i64      ┆ i64    ┆ str             ┆   ┆ f64     ┆ str   ┆ str      ┆ str         │\n",
       "╞═════════════╪══════════╪════════╪═════════════════╪═══╪═════════╪═══════╪══════════╪═════════════╡\n",
       "│ 1           ┆ 0        ┆ 3      ┆ Braund, Mr.     ┆ … ┆ 7.25    ┆ null  ┆ S        ┆ Southampton │\n",
       "│             ┆          ┆        ┆ Owen Harris     ┆   ┆         ┆       ┆          ┆             │\n",
       "│ 2           ┆ 1        ┆ 1      ┆ Cumings, Mrs.   ┆ … ┆ 71.2833 ┆ C85   ┆ C        ┆ Cherbourg   │\n",
       "│             ┆          ┆        ┆ John Bradley    ┆   ┆         ┆       ┆          ┆             │\n",
       "│             ┆          ┆        ┆ (Fl…            ┆   ┆         ┆       ┆          ┆             │\n",
       "│ 3           ┆ 1        ┆ 3      ┆ Heikkinen,      ┆ … ┆ 7.925   ┆ null  ┆ S        ┆ Southampton │\n",
       "│             ┆          ┆        ┆ Miss. Laina     ┆   ┆         ┆       ┆          ┆             │\n",
       "│ 4           ┆ 1        ┆ 1      ┆ Futrelle, Mrs.  ┆ … ┆ 53.1    ┆ C123  ┆ S        ┆ Southampton │\n",
       "│             ┆          ┆        ┆ Jacques Heath   ┆   ┆         ┆       ┆          ┆             │\n",
       "│             ┆          ┆        ┆ (…              ┆   ┆         ┆       ┆          ┆             │\n",
       "│ 5           ┆ 0        ┆ 3      ┆ Allen, Mr.      ┆ … ┆ 8.05    ┆ null  ┆ S        ┆ Southampton │\n",
       "│             ┆          ┆        ┆ William Henry   ┆   ┆         ┆       ┆          ┆             │\n",
       "│ …           ┆ …        ┆ …      ┆ …               ┆ … ┆ …       ┆ …     ┆ …        ┆ …           │\n",
       "│ 887         ┆ 0        ┆ 2      ┆ Montvila, Rev.  ┆ … ┆ 13.0    ┆ null  ┆ S        ┆ Southampton │\n",
       "│             ┆          ┆        ┆ Juozas          ┆   ┆         ┆       ┆          ┆             │\n",
       "│ 888         ┆ 1        ┆ 1      ┆ Graham, Miss.   ┆ … ┆ 30.0    ┆ B42   ┆ S        ┆ Southampton │\n",
       "│             ┆          ┆        ┆ Margaret Edith  ┆   ┆         ┆       ┆          ┆             │\n",
       "│ 889         ┆ 0        ┆ 3      ┆ Johnston, Miss. ┆ … ┆ 23.45   ┆ null  ┆ S        ┆ Southampton │\n",
       "│             ┆          ┆        ┆ Catherine Hele… ┆   ┆         ┆       ┆          ┆             │\n",
       "│ 890         ┆ 1        ┆ 1      ┆ Behr, Mr. Karl  ┆ … ┆ 30.0    ┆ C148  ┆ C        ┆ Cherbourg   │\n",
       "│             ┆          ┆        ┆ Howell          ┆   ┆         ┆       ┆          ┆             │\n",
       "│ 891         ┆ 0        ┆ 3      ┆ Dooley, Mr.     ┆ … ┆ 7.75    ┆ null  ┆ Q        ┆ Queenstown  │\n",
       "│             ┆          ┆        ┆ Patrick         ┆   ┆         ┆       ┆          ┆             │\n",
       "└─────────────┴──────────┴────────┴─────────────────┴───┴─────────┴───────┴──────────┴─────────────┘"
      ]
     },
     "execution_count": 10,
     "metadata": {},
     "output_type": "execute_result"
    }
   ],
   "source": [
    "ports = pl.DataFrame({\n",
    "    \"embarked\": [\"C\",\"Q\",\"S\"],\n",
    "    \"port_name\": [\"Cherbourg\",\"Queenstown\",\"Southampton\"]\n",
    "})\n",
    "\n",
    "joined = titanic.join(ports, on=\"embarked\", how=\"left\")\n",
    "joined"
   ]
  },
  {
   "cell_type": "markdown",
   "id": "31e6148c",
   "metadata": {},
   "source": [
    "## 9) Reshaping: Pivot and Unpivot\n",
    "\n",
    "Compute a **survival rate** table by `sex and pclass`.\n",
    "\n",
    "We then pivot it (equivalent to pivot_wide), then unpivot it back (pivot long).\n"
   ]
  },
  {
   "cell_type": "code",
   "execution_count": 11,
   "id": "f2b34962",
   "metadata": {},
   "outputs": [
    {
     "data": {
      "text/html": [
       "<div><style>\n",
       ".dataframe > thead > tr,\n",
       ".dataframe > tbody > tr {\n",
       "  text-align: right;\n",
       "  white-space: pre-wrap;\n",
       "}\n",
       "</style>\n",
       "<small>shape: (6, 3)</small><table border=\"1\" class=\"dataframe\"><thead><tr><th>sex</th><th>pclass</th><th>survival_rate</th></tr><tr><td>str</td><td>i64</td><td>f64</td></tr></thead><tbody><tr><td>&quot;female&quot;</td><td>1</td><td>0.968085</td></tr><tr><td>&quot;male&quot;</td><td>1</td><td>0.368852</td></tr><tr><td>&quot;female&quot;</td><td>2</td><td>0.921053</td></tr><tr><td>&quot;male&quot;</td><td>2</td><td>0.157407</td></tr><tr><td>&quot;female&quot;</td><td>3</td><td>0.5</td></tr><tr><td>&quot;male&quot;</td><td>3</td><td>0.135447</td></tr></tbody></table></div>"
      ],
      "text/plain": [
       "shape: (6, 3)\n",
       "┌────────┬────────┬───────────────┐\n",
       "│ sex    ┆ pclass ┆ survival_rate │\n",
       "│ ---    ┆ ---    ┆ ---           │\n",
       "│ str    ┆ i64    ┆ f64           │\n",
       "╞════════╪════════╪═══════════════╡\n",
       "│ female ┆ 1      ┆ 0.968085      │\n",
       "│ male   ┆ 1      ┆ 0.368852      │\n",
       "│ female ┆ 2      ┆ 0.921053      │\n",
       "│ male   ┆ 2      ┆ 0.157407      │\n",
       "│ female ┆ 3      ┆ 0.5           │\n",
       "│ male   ┆ 3      ┆ 0.135447      │\n",
       "└────────┴────────┴───────────────┘"
      ]
     },
     "execution_count": 11,
     "metadata": {},
     "output_type": "execute_result"
    }
   ],
   "source": [
    "# First, we make a summary table of survival rate by sex and pclass\n",
    "survival = (\n",
    "    titanic.group_by([\"sex\",\"pclass\"])\n",
    "           .agg(pl.col(\"survived\").mean().alias(\"survival_rate\"))\n",
    ").sort(['pclass','sex'])\n",
    "survival"
   ]
  },
  {
   "cell_type": "code",
   "execution_count": 12,
   "id": "1b78abbb",
   "metadata": {},
   "outputs": [
    {
     "data": {
      "text/html": [
       "<div><style>\n",
       ".dataframe > thead > tr,\n",
       ".dataframe > tbody > tr {\n",
       "  text-align: right;\n",
       "  white-space: pre-wrap;\n",
       "}\n",
       "</style>\n",
       "<small>shape: (2, 4)</small><table border=\"1\" class=\"dataframe\"><thead><tr><th>sex</th><th>1</th><th>2</th><th>3</th></tr><tr><td>str</td><td>f64</td><td>f64</td><td>f64</td></tr></thead><tbody><tr><td>&quot;female&quot;</td><td>0.968085</td><td>0.921053</td><td>0.5</td></tr><tr><td>&quot;male&quot;</td><td>0.368852</td><td>0.157407</td><td>0.135447</td></tr></tbody></table></div>"
      ],
      "text/plain": [
       "shape: (2, 4)\n",
       "┌────────┬──────────┬──────────┬──────────┐\n",
       "│ sex    ┆ 1        ┆ 2        ┆ 3        │\n",
       "│ ---    ┆ ---      ┆ ---      ┆ ---      │\n",
       "│ str    ┆ f64      ┆ f64      ┆ f64      │\n",
       "╞════════╪══════════╪══════════╪══════════╡\n",
       "│ female ┆ 0.968085 ┆ 0.921053 ┆ 0.5      │\n",
       "│ male   ┆ 0.368852 ┆ 0.157407 ┆ 0.135447 │\n",
       "└────────┴──────────┴──────────┴──────────┘"
      ]
     },
     "execution_count": 12,
     "metadata": {},
     "output_type": "execute_result"
    }
   ],
   "source": [
    "# arguments:\n",
    "# on is the column name that contains the values that will become column headings\n",
    "survival_pivot = survival.pivot(\n",
    "        on=\"pclass\",\n",
    "        index=\"sex\",\n",
    "        values=\"survival_rate\"\n",
    "        )\n",
    "survival_pivot"
   ]
  },
  {
   "cell_type": "code",
   "execution_count": 13,
   "id": "d6c5da46",
   "metadata": {},
   "outputs": [
    {
     "data": {
      "text/html": [
       "<div><style>\n",
       ".dataframe > thead > tr,\n",
       ".dataframe > tbody > tr {\n",
       "  text-align: right;\n",
       "  white-space: pre-wrap;\n",
       "}\n",
       "</style>\n",
       "<small>shape: (6, 3)</small><table border=\"1\" class=\"dataframe\"><thead><tr><th>sex</th><th>pclass</th><th>survival_rate</th></tr><tr><td>str</td><td>str</td><td>f64</td></tr></thead><tbody><tr><td>&quot;female&quot;</td><td>&quot;1&quot;</td><td>0.968085</td></tr><tr><td>&quot;male&quot;</td><td>&quot;1&quot;</td><td>0.368852</td></tr><tr><td>&quot;female&quot;</td><td>&quot;2&quot;</td><td>0.921053</td></tr><tr><td>&quot;male&quot;</td><td>&quot;2&quot;</td><td>0.157407</td></tr><tr><td>&quot;female&quot;</td><td>&quot;3&quot;</td><td>0.5</td></tr><tr><td>&quot;male&quot;</td><td>&quot;3&quot;</td><td>0.135447</td></tr></tbody></table></div>"
      ],
      "text/plain": [
       "shape: (6, 3)\n",
       "┌────────┬────────┬───────────────┐\n",
       "│ sex    ┆ pclass ┆ survival_rate │\n",
       "│ ---    ┆ ---    ┆ ---           │\n",
       "│ str    ┆ str    ┆ f64           │\n",
       "╞════════╪════════╪═══════════════╡\n",
       "│ female ┆ 1      ┆ 0.968085      │\n",
       "│ male   ┆ 1      ┆ 0.368852      │\n",
       "│ female ┆ 2      ┆ 0.921053      │\n",
       "│ male   ┆ 2      ┆ 0.157407      │\n",
       "│ female ┆ 3      ┆ 0.5           │\n",
       "│ male   ┆ 3      ┆ 0.135447      │\n",
       "└────────┴────────┴───────────────┘"
      ]
     },
     "execution_count": 13,
     "metadata": {},
     "output_type": "execute_result"
    }
   ],
   "source": [
    "# unpivot is like pivot_longer\n",
    "# on takes a list of column names that will be unpivoted\n",
    "survival_long = survival_pivot.unpivot(on=['1','2','3'], index = \"sex\", variable_name=\"pclass\", value_name=\"survival_rate\")\n",
    "survival_long"
   ]
  },
  {
   "cell_type": "markdown",
   "id": "4499d4d9",
   "metadata": {},
   "source": [
    "\n",
    "## 11) Lazy Optimizations (Predicate/Projection Pushdown)\n"
   ]
  },
  {
   "cell_type": "code",
   "execution_count": 14,
   "id": "97896573",
   "metadata": {},
   "outputs": [],
   "source": [
    "# Lazy scan of the CSV file\n",
    "titanic_lazy = pl.scan_csv(\"titanic.csv\")\n",
    "\n",
    "lazy_query = (\n",
    "  titanic_lazy\n",
    "  .select([\"survived\",\"pclass\",\"sex\",\"fare\"])\n",
    "  .filter((pl.col(\"fare\") > 30) & (pl.col(\"pclass\") <= 2))\n",
    ")\n"
   ]
  },
  {
   "cell_type": "code",
   "execution_count": 15,
   "id": "7b78b1e4",
   "metadata": {},
   "outputs": [
    {
     "data": {
      "text/html": [
       "<i>naive plan: (run <b>LazyFrame.explain(optimized=True)</b> to see the optimized plan)</i>\n",
       "    <p></p>\n",
       "    <div>FILTER [(col(\"fare\")) > (30.0)] FROM<p></p>  FILTER [(col(\"pclass\")) <= (2)] FROM<p></p>     SELECT [col(\"survived\"), col(\"pclass\"), col(\"sex\"), col(\"fare\")] FROM<p></p>      Csv SCAN [titanic.csv]<p></p>      PROJECT */12 COLUMNS</div>"
      ],
      "text/plain": [
       "<LazyFrame at 0x283DB5031A0>"
      ]
     },
     "execution_count": 15,
     "metadata": {},
     "output_type": "execute_result"
    }
   ],
   "source": [
    "lazy_query # reveals Polars plan to run the query"
   ]
  },
  {
   "cell_type": "code",
   "execution_count": 16,
   "id": "0cb1a6ad",
   "metadata": {},
   "outputs": [
    {
     "data": {
      "text/html": [
       "<div><style>\n",
       ".dataframe > thead > tr,\n",
       ".dataframe > tbody > tr {\n",
       "  text-align: right;\n",
       "  white-space: pre-wrap;\n",
       "}\n",
       "</style>\n",
       "<small>shape: (193, 4)</small><table border=\"1\" class=\"dataframe\"><thead><tr><th>survived</th><th>pclass</th><th>sex</th><th>fare</th></tr><tr><td>i64</td><td>i64</td><td>str</td><td>f64</td></tr></thead><tbody><tr><td>1</td><td>1</td><td>&quot;female&quot;</td><td>71.2833</td></tr><tr><td>1</td><td>1</td><td>&quot;female&quot;</td><td>53.1</td></tr><tr><td>0</td><td>1</td><td>&quot;male&quot;</td><td>51.8625</td></tr><tr><td>1</td><td>2</td><td>&quot;female&quot;</td><td>30.0708</td></tr><tr><td>1</td><td>1</td><td>&quot;male&quot;</td><td>35.5</td></tr><tr><td>&hellip;</td><td>&hellip;</td><td>&hellip;</td><td>&hellip;</td></tr><tr><td>1</td><td>1</td><td>&quot;female&quot;</td><td>39.4</td></tr><tr><td>1</td><td>1</td><td>&quot;female&quot;</td><td>164.8667</td></tr><tr><td>0</td><td>1</td><td>&quot;male&quot;</td><td>50.4958</td></tr><tr><td>1</td><td>1</td><td>&quot;female&quot;</td><td>52.5542</td></tr><tr><td>1</td><td>1</td><td>&quot;female&quot;</td><td>83.1583</td></tr></tbody></table></div>"
      ],
      "text/plain": [
       "shape: (193, 4)\n",
       "┌──────────┬────────┬────────┬──────────┐\n",
       "│ survived ┆ pclass ┆ sex    ┆ fare     │\n",
       "│ ---      ┆ ---    ┆ ---    ┆ ---      │\n",
       "│ i64      ┆ i64    ┆ str    ┆ f64      │\n",
       "╞══════════╪════════╪════════╪══════════╡\n",
       "│ 1        ┆ 1      ┆ female ┆ 71.2833  │\n",
       "│ 1        ┆ 1      ┆ female ┆ 53.1     │\n",
       "│ 0        ┆ 1      ┆ male   ┆ 51.8625  │\n",
       "│ 1        ┆ 2      ┆ female ┆ 30.0708  │\n",
       "│ 1        ┆ 1      ┆ male   ┆ 35.5     │\n",
       "│ …        ┆ …      ┆ …      ┆ …        │\n",
       "│ 1        ┆ 1      ┆ female ┆ 39.4     │\n",
       "│ 1        ┆ 1      ┆ female ┆ 164.8667 │\n",
       "│ 0        ┆ 1      ┆ male   ┆ 50.4958  │\n",
       "│ 1        ┆ 1      ┆ female ┆ 52.5542  │\n",
       "│ 1        ┆ 1      ┆ female ┆ 83.1583  │\n",
       "└──────────┴────────┴────────┴──────────┘"
      ]
     },
     "execution_count": 16,
     "metadata": {},
     "output_type": "execute_result"
    }
   ],
   "source": [
    "lazy_query.collect()"
   ]
  },
  {
   "cell_type": "code",
   "execution_count": 17,
   "id": "fe5f830d",
   "metadata": {},
   "outputs": [],
   "source": [
    "lazy_query2 = (\n",
    "    titanic_lazy\n",
    "    .filter(pl.col(\"age\").is_not_null())\n",
    "    .with_columns(\n",
    "        (pl.col(\"age\") >= 18).alias(\"adult\"),\n",
    "    )\n",
    "    .group_by([\"pclass\", \"sex\"])\n",
    "    .agg(\n",
    "        survival_rate = pl.col(\"survived\").mean(),\n",
    "        avg_age       = pl.col(\"age\").mean(),\n",
    "        avg_fare      = pl.col(\"fare\").mean(),\n",
    "        prop_adult    = pl.col(\"adult\").mean(),\n",
    "        n             = pl.len()\n",
    "    )\n",
    "    .sort([\"pclass\", \"sex\"])\n",
    ")"
   ]
  },
  {
   "cell_type": "code",
   "execution_count": 18,
   "id": "ea19e628",
   "metadata": {},
   "outputs": [
    {
     "data": {
      "text/html": [
       "<div><style>\n",
       ".dataframe > thead > tr,\n",
       ".dataframe > tbody > tr {\n",
       "  text-align: right;\n",
       "  white-space: pre-wrap;\n",
       "}\n",
       "</style>\n",
       "<small>shape: (6, 7)</small><table border=\"1\" class=\"dataframe\"><thead><tr><th>pclass</th><th>sex</th><th>survival_rate</th><th>avg_age</th><th>avg_fare</th><th>prop_adult</th><th>n</th></tr><tr><td>i64</td><td>str</td><td>f64</td><td>f64</td><td>f64</td><td>f64</td><td>u32</td></tr></thead><tbody><tr><td>1</td><td>&quot;female&quot;</td><td>0.964706</td><td>34.611765</td><td>107.946275</td><td>0.905882</td><td>85</td></tr><tr><td>1</td><td>&quot;male&quot;</td><td>0.39604</td><td>41.281386</td><td>71.142781</td><td>0.960396</td><td>101</td></tr><tr><td>2</td><td>&quot;female&quot;</td><td>0.918919</td><td>28.722973</td><td>21.95107</td><td>0.837838</td><td>74</td></tr><tr><td>2</td><td>&quot;male&quot;</td><td>0.151515</td><td>30.740707</td><td>21.113131</td><td>0.888889</td><td>99</td></tr><tr><td>3</td><td>&quot;female&quot;</td><td>0.460784</td><td>21.75</td><td>15.875369</td><td>0.656863</td><td>102</td></tr><tr><td>3</td><td>&quot;male&quot;</td><td>0.150198</td><td>26.507589</td><td>12.162695</td><td>0.83004</td><td>253</td></tr></tbody></table></div>"
      ],
      "text/plain": [
       "shape: (6, 7)\n",
       "┌────────┬────────┬───────────────┬───────────┬────────────┬────────────┬─────┐\n",
       "│ pclass ┆ sex    ┆ survival_rate ┆ avg_age   ┆ avg_fare   ┆ prop_adult ┆ n   │\n",
       "│ ---    ┆ ---    ┆ ---           ┆ ---       ┆ ---        ┆ ---        ┆ --- │\n",
       "│ i64    ┆ str    ┆ f64           ┆ f64       ┆ f64        ┆ f64        ┆ u32 │\n",
       "╞════════╪════════╪═══════════════╪═══════════╪════════════╪════════════╪═════╡\n",
       "│ 1      ┆ female ┆ 0.964706      ┆ 34.611765 ┆ 107.946275 ┆ 0.905882   ┆ 85  │\n",
       "│ 1      ┆ male   ┆ 0.39604       ┆ 41.281386 ┆ 71.142781  ┆ 0.960396   ┆ 101 │\n",
       "│ 2      ┆ female ┆ 0.918919      ┆ 28.722973 ┆ 21.95107   ┆ 0.837838   ┆ 74  │\n",
       "│ 2      ┆ male   ┆ 0.151515      ┆ 30.740707 ┆ 21.113131  ┆ 0.888889   ┆ 99  │\n",
       "│ 3      ┆ female ┆ 0.460784      ┆ 21.75     ┆ 15.875369  ┆ 0.656863   ┆ 102 │\n",
       "│ 3      ┆ male   ┆ 0.150198      ┆ 26.507589 ┆ 12.162695  ┆ 0.83004    ┆ 253 │\n",
       "└────────┴────────┴───────────────┴───────────┴────────────┴────────────┴─────┘"
      ]
     },
     "execution_count": 18,
     "metadata": {},
     "output_type": "execute_result"
    }
   ],
   "source": [
    "lazy_query2.collect()"
   ]
  }
 ],
 "metadata": {
  "kernelspec": {
   "display_name": "3.12.5",
   "language": "python",
   "name": "python3"
  },
  "language_info": {
   "codemirror_mode": {
    "name": "ipython",
    "version": 3
   },
   "file_extension": ".py",
   "mimetype": "text/x-python",
   "name": "python",
   "nbconvert_exporter": "python",
   "pygments_lexer": "ipython3",
   "version": "3.12.5"
  }
 },
 "nbformat": 4,
 "nbformat_minor": 5
}
